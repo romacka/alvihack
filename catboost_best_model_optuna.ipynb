{
 "cells": [
  {
   "cell_type": "code",
   "execution_count": 15,
   "id": "1068aea1",
   "metadata": {},
   "outputs": [],
   "source": [
    "import numpy as np\n",
    "import pandas as pd\n",
    "from os import listdir\n",
    "from tqdm.notebook import tqdm\n",
    "import optuna\n",
    "import catboost as cb\n",
    "from sklearn.model_selection import train_test_split\n",
    "from sklearn.metrics import mean_absolute_error\n",
    "\n",
    "WINDOW_SIZE = 10"
   ]
  },
  {
   "cell_type": "code",
   "execution_count": 2,
   "id": "384b1d10",
   "metadata": {},
   "outputs": [],
   "source": [
    "def window_generator(myo, w_size=200):\n",
    "    window_myo = []\n",
    "    myo = np.concatenate((np.tile(np.array(myo[0]), (w_size, 1)), myo), axis=0)\n",
    "    for i in range(len(myo)):\n",
    "        window_myo.append(myo[i:w_size+i])\n",
    "    return np.array(window_myo[:-w_size])"
   ]
  },
  {
   "cell_type": "code",
   "execution_count": 3,
   "id": "f00c008d",
   "metadata": {},
   "outputs": [],
   "source": [
    "def load_data(train_root=\"data_train\", slice_data=False, slice_size=10, w_size=200):\n",
    "    \n",
    "    pre_X, pre_y = [], []\n",
    "    \n",
    "    files = listdir(train_root)\n",
    "    if slice_data:\n",
    "        files = files[:slice_size]\n",
    "        \n",
    "    for file in tqdm(files):\n",
    "        npz = np.load(f\"{train_root}/{file}\")\n",
    "        myo = npz[\"data_myo\"]\n",
    "        vr = npz[\"data_vr\"]\n",
    "        window_myo = window_generator(myo, w_size=w_size)\n",
    "        myo_reshaped = np.reshape(window_myo, (window_myo.shape[0], window_myo.shape[1]*window_myo.shape[2]))\n",
    "        vr_reshaped = np.reshape(vr, (vr.shape[0], vr.shape[1]*vr.shape[2]))\n",
    "        pre_X.append(myo_reshaped)\n",
    "        pre_y.append(vr_reshaped)\n",
    "\n",
    "    X = np.vstack(pre_X)\n",
    "    y = np.vstack(pre_y)\n",
    "    \n",
    "    return X,y"
   ]
  },
  {
   "cell_type": "code",
   "execution_count": 4,
   "id": "2d44688f",
   "metadata": {},
   "outputs": [
    {
     "data": {
      "application/vnd.jupyter.widget-view+json": {
       "model_id": "3ecb51ade88341f89f6c0db8928c90dc",
       "version_major": 2,
       "version_minor": 0
      },
      "text/plain": [
       "  0%|          | 0/10 [00:00<?, ?it/s]"
      ]
     },
     "metadata": {},
     "output_type": "display_data"
    },
    {
     "name": "stdout",
     "output_type": "stream",
     "text": [
      "CPU times: total: 312 ms\n",
      "Wall time: 310 ms\n"
     ]
    }
   ],
   "source": [
    "%%time\n",
    "\n",
    "X, y = load_data(slice_data=True, w_size=WINDOW_SIZE)"
   ]
  },
  {
   "cell_type": "code",
   "execution_count": 5,
   "id": "18548165",
   "metadata": {},
   "outputs": [],
   "source": [
    "def objective(trial):\n",
    "    X_train, X_test, y_train, y_test = train_test_split(X, y, test_size=0.3)\n",
    "    \n",
    "    train_pool = cb.Pool(\n",
    "    data=X_train,\n",
    "    label=y_train,\n",
    "    )\n",
    "\n",
    "    valid_pool = cb.Pool(\n",
    "        data=X_test, \n",
    "        label=y_test,\n",
    "    )\n",
    "\n",
    "    param = {\n",
    "        \"loss_function\": 'MultiRMSE',\n",
    "        \"iterations\": 10,\n",
    "        \"allow_const_label\": True,\n",
    "        \"learning_rate\": trial.suggest_float(\"learning_rate\", 1e-5, 1e0),\n",
    "        \"l2_leaf_reg\": trial.suggest_float(\"l2_leaf_reg\", 1e-2, 1e0),\n",
    "        \"colsample_bylevel\": trial.suggest_float(\"colsample_bylevel\", 0.01, 0.1),\n",
    "        \"depth\": trial.suggest_int(\"depth\", 1, 10),\n",
    "        \"boosting_type\": trial.suggest_categorical(\"boosting_type\", [\"Ordered\", \"Plain\"]),\n",
    "        \"bootstrap_type\": trial.suggest_categorical(\"bootstrap_type\", [\"Bayesian\", \"Bernoulli\", \"MVS\"]),\n",
    "        \"min_data_in_leaf\": trial.suggest_int(\"min_data_in_leaf\", 2, 20),\n",
    "    }\n",
    "    \n",
    "    \n",
    "    if param[\"bootstrap_type\"] == \"Bayesian\":\n",
    "        param[\"bagging_temperature\"] = trial.suggest_float(\"bagging_temperature\", 0, 10)\n",
    "    elif param[\"bootstrap_type\"] == \"Bernoulli\":\n",
    "        param[\"subsample\"] = trial.suggest_float(\"subsample\", 0.1, 1)\n",
    "\n",
    "    reg = cb.CatBoostRegressor(**param)\n",
    "    reg.fit(train_pool, eval_set=valid_pool, verbose=5, early_stopping_rounds=100)\n",
    "    y_pred = reg.predict(X_test)\n",
    "    mae = mean_absolute_error(y_test, y_pred)\n",
    "    return mae"
   ]
  },
  {
   "cell_type": "code",
   "execution_count": 6,
   "id": "4de3367a",
   "metadata": {},
   "outputs": [
    {
     "name": "stderr",
     "output_type": "stream",
     "text": [
      "\u001b[32m[I 2023-02-02 20:30:40,591]\u001b[0m A new study created in memory with name: no-name-ccce4677-5742-4b63-8314-7992bc36eacb\u001b[0m\n"
     ]
    },
    {
     "name": "stdout",
     "output_type": "stream",
     "text": [
      "0:\tlearn: 3.3967768\ttest: 3.4001484\tbest: 3.4001484 (0)\ttotal: 432ms\tremaining: 3.89s\n",
      "5:\tlearn: 3.3122835\ttest: 3.3158931\tbest: 3.3158931 (5)\ttotal: 1.67s\tremaining: 1.11s\n",
      "9:\tlearn: 3.2776741\ttest: 3.2813762\tbest: 3.2813762 (9)\ttotal: 2.71s\tremaining: 0us\n",
      "\n",
      "bestTest = 3.281376213\n",
      "bestIteration = 9\n",
      "\n"
     ]
    },
    {
     "name": "stderr",
     "output_type": "stream",
     "text": [
      "\u001b[32m[I 2023-02-02 20:30:49,676]\u001b[0m Trial 0 finished with value: 0.261163134530084 and parameters: {'learning_rate': 0.19173148418014033, 'l2_leaf_reg': 0.21911766758313617, 'colsample_bylevel': 0.06778045558781984, 'depth': 5, 'boosting_type': 'Plain', 'bootstrap_type': 'Bayesian', 'min_data_in_leaf': 19, 'bagging_temperature': 1.7800495011524942}. Best is trial 0 with value: 0.261163134530084.\u001b[0m\n"
     ]
    },
    {
     "name": "stdout",
     "output_type": "stream",
     "text": [
      "0:\tlearn: 3.3552632\ttest: 3.3573795\tbest: 3.3573795 (0)\ttotal: 1.07s\tremaining: 9.64s\n",
      "5:\tlearn: 3.2563076\ttest: 3.2680328\tbest: 3.2680328 (5)\ttotal: 6.08s\tremaining: 4.05s\n",
      "9:\tlearn: 3.2264073\ttest: 3.2437818\tbest: 3.2437818 (9)\ttotal: 9.59s\tremaining: 0us\n",
      "\n",
      "bestTest = 3.243781806\n",
      "bestIteration = 9\n",
      "\n"
     ]
    },
    {
     "name": "stderr",
     "output_type": "stream",
     "text": [
      "\u001b[32m[I 2023-02-02 20:31:05,802]\u001b[0m Trial 1 finished with value: 0.248996841661711 and parameters: {'learning_rate': 0.9787267616158092, 'l2_leaf_reg': 0.5641321164386649, 'colsample_bylevel': 0.03388650556773101, 'depth': 6, 'boosting_type': 'Ordered', 'bootstrap_type': 'MVS', 'min_data_in_leaf': 4}. Best is trial 1 with value: 0.248996841661711.\u001b[0m\n"
     ]
    },
    {
     "name": "stdout",
     "output_type": "stream",
     "text": [
      "0:\tlearn: 3.4127910\ttest: 3.4103557\tbest: 3.4103557 (0)\ttotal: 199ms\tremaining: 1.79s\n",
      "5:\tlearn: 3.3966670\ttest: 3.3943308\tbest: 3.3943308 (5)\ttotal: 1.16s\tremaining: 777ms\n",
      "9:\tlearn: 3.3861561\ttest: 3.3835547\tbest: 3.3835547 (9)\ttotal: 1.84s\tremaining: 0us\n",
      "\n",
      "bestTest = 3.383554665\n",
      "bestIteration = 9\n",
      "\n"
     ]
    },
    {
     "name": "stderr",
     "output_type": "stream",
     "text": [
      "\u001b[32m[I 2023-02-02 20:31:13,838]\u001b[0m Trial 2 finished with value: 0.27453897819585793 and parameters: {'learning_rate': 0.07819705925365857, 'l2_leaf_reg': 0.9409985077555518, 'colsample_bylevel': 0.02492701355202956, 'depth': 3, 'boosting_type': 'Plain', 'bootstrap_type': 'MVS', 'min_data_in_leaf': 3}. Best is trial 1 with value: 0.248996841661711.\u001b[0m\n"
     ]
    },
    {
     "name": "stdout",
     "output_type": "stream",
     "text": [
      "0:\tlearn: 3.3379933\ttest: 3.3546254\tbest: 3.3546254 (0)\ttotal: 1.1s\tremaining: 9.91s\n",
      "5:\tlearn: 3.1587394\ttest: 3.2529050\tbest: 3.2529050 (5)\ttotal: 8.18s\tremaining: 5.46s\n",
      "9:\tlearn: 3.1044141\ttest: 3.2476147\tbest: 3.2476147 (9)\ttotal: 12.4s\tremaining: 0us\n",
      "\n",
      "bestTest = 3.247614731\n",
      "bestIteration = 9\n",
      "\n"
     ]
    },
    {
     "name": "stderr",
     "output_type": "stream",
     "text": [
      "\u001b[32m[I 2023-02-02 20:31:32,647]\u001b[0m Trial 3 finished with value: 0.2463218231704269 and parameters: {'learning_rate': 0.8485299335398006, 'l2_leaf_reg': 0.2776958314297208, 'colsample_bylevel': 0.09654312765931418, 'depth': 10, 'boosting_type': 'Plain', 'bootstrap_type': 'Bernoulli', 'min_data_in_leaf': 20, 'subsample': 0.17838567977247483}. Best is trial 3 with value: 0.2463218231704269.\u001b[0m\n"
     ]
    },
    {
     "name": "stdout",
     "output_type": "stream",
     "text": [
      "0:\tlearn: 3.3902699\ttest: 3.3863725\tbest: 3.3863725 (0)\ttotal: 139ms\tremaining: 1.25s\n",
      "5:\tlearn: 3.3109493\ttest: 3.3046036\tbest: 3.3046036 (5)\ttotal: 806ms\tremaining: 537ms\n",
      "9:\tlearn: 3.2829145\ttest: 3.2759431\tbest: 3.2759431 (9)\ttotal: 1.36s\tremaining: 0us\n",
      "\n",
      "bestTest = 3.275943086\n",
      "bestIteration = 9\n",
      "\n"
     ]
    },
    {
     "name": "stderr",
     "output_type": "stream",
     "text": [
      "\u001b[32m[I 2023-02-02 20:31:40,292]\u001b[0m Trial 4 finished with value: 0.2584629867017103 and parameters: {'learning_rate': 0.7489626746641415, 'l2_leaf_reg': 0.6730329516677731, 'colsample_bylevel': 0.06292780916755267, 'depth': 2, 'boosting_type': 'Plain', 'bootstrap_type': 'Bernoulli', 'min_data_in_leaf': 20, 'subsample': 0.28919602122144394}. Best is trial 3 with value: 0.2463218231704269.\u001b[0m\n"
     ]
    },
    {
     "name": "stdout",
     "output_type": "stream",
     "text": [
      "0:\tlearn: 3.3396750\ttest: 3.3411206\tbest: 3.3411206 (0)\ttotal: 4.33s\tremaining: 39s\n",
      "5:\tlearn: 3.2044964\ttest: 3.2231671\tbest: 3.2231671 (5)\ttotal: 23.3s\tremaining: 15.6s\n",
      "9:\tlearn: 3.1615980\ttest: 3.1901837\tbest: 3.1901837 (9)\ttotal: 36.5s\tremaining: 0us\n",
      "\n",
      "bestTest = 3.190183691\n",
      "bestIteration = 9\n",
      "\n"
     ]
    },
    {
     "name": "stderr",
     "output_type": "stream",
     "text": [
      "\u001b[32m[I 2023-02-02 20:32:23,788]\u001b[0m Trial 5 finished with value: 0.24562259254855356 and parameters: {'learning_rate': 0.5058476946387673, 'l2_leaf_reg': 0.6570550340041426, 'colsample_bylevel': 0.08376255404387904, 'depth': 8, 'boosting_type': 'Ordered', 'bootstrap_type': 'MVS', 'min_data_in_leaf': 2}. Best is trial 5 with value: 0.24562259254855356.\u001b[0m\n"
     ]
    },
    {
     "name": "stdout",
     "output_type": "stream",
     "text": [
      "0:\tlearn: 3.3523546\ttest: 3.3522364\tbest: 3.3522364 (0)\ttotal: 11.1s\tremaining: 1m 40s\n",
      "5:\tlearn: 3.2260176\ttest: 3.2394165\tbest: 3.2394165 (5)\ttotal: 36.6s\tremaining: 24.4s\n",
      "9:\tlearn: 3.1935972\ttest: 3.2131758\tbest: 3.2131758 (9)\ttotal: 56.6s\tremaining: 0us\n",
      "\n",
      "bestTest = 3.213175808\n",
      "bestIteration = 9\n",
      "\n"
     ]
    },
    {
     "name": "stderr",
     "output_type": "stream",
     "text": [
      "\u001b[32m[I 2023-02-02 20:33:29,421]\u001b[0m Trial 6 finished with value: 0.2504205027893407 and parameters: {'learning_rate': 0.36705837529278046, 'l2_leaf_reg': 0.2695731183360748, 'colsample_bylevel': 0.05233534300098308, 'depth': 9, 'boosting_type': 'Ordered', 'bootstrap_type': 'Bernoulli', 'min_data_in_leaf': 14, 'subsample': 0.6877310995305187}. Best is trial 5 with value: 0.24562259254855356.\u001b[0m\n"
     ]
    },
    {
     "name": "stdout",
     "output_type": "stream",
     "text": [
      "0:\tlearn: 3.3975961\ttest: 3.3947380\tbest: 3.3947380 (0)\ttotal: 875ms\tremaining: 7.87s\n",
      "5:\tlearn: 3.3122444\ttest: 3.3115829\tbest: 3.3115829 (5)\ttotal: 4.78s\tremaining: 3.19s\n",
      "9:\tlearn: 3.2795739\ttest: 3.2814777\tbest: 3.2814777 (9)\ttotal: 8.11s\tremaining: 0us\n",
      "\n",
      "bestTest = 3.281477747\n",
      "bestIteration = 9\n",
      "\n"
     ]
    },
    {
     "name": "stderr",
     "output_type": "stream",
     "text": [
      "\u001b[32m[I 2023-02-02 20:33:45,561]\u001b[0m Trial 7 finished with value: 0.2609564014002005 and parameters: {'learning_rate': 0.2589737866718724, 'l2_leaf_reg': 0.6128525903243071, 'colsample_bylevel': 0.06562318107847116, 'depth': 4, 'boosting_type': 'Ordered', 'bootstrap_type': 'Bayesian', 'min_data_in_leaf': 9, 'bagging_temperature': 2.3519922071537724}. Best is trial 5 with value: 0.24562259254855356.\u001b[0m\n"
     ]
    },
    {
     "name": "stdout",
     "output_type": "stream",
     "text": [
      "0:\tlearn: 3.4119792\ttest: 3.4121977\tbest: 3.4121977 (0)\ttotal: 247ms\tremaining: 2.22s\n",
      "5:\tlearn: 3.3601373\ttest: 3.3630267\tbest: 3.3630267 (5)\ttotal: 1.4s\tremaining: 936ms\n",
      "9:\tlearn: 3.3271594\ttest: 3.3304806\tbest: 3.3304806 (9)\ttotal: 2.38s\tremaining: 0us\n",
      "\n",
      "bestTest = 3.330480583\n",
      "bestIteration = 9\n",
      "\n"
     ]
    },
    {
     "name": "stderr",
     "output_type": "stream",
     "text": [
      "\u001b[32m[I 2023-02-02 20:33:56,732]\u001b[0m Trial 8 finished with value: 0.26771571671109873 and parameters: {'learning_rate': 0.3307788853063746, 'l2_leaf_reg': 0.15269810317000113, 'colsample_bylevel': 0.05466288763630568, 'depth': 3, 'boosting_type': 'Plain', 'bootstrap_type': 'Bayesian', 'min_data_in_leaf': 4, 'bagging_temperature': 5.033229509903421}. Best is trial 5 with value: 0.24562259254855356.\u001b[0m\n"
     ]
    },
    {
     "name": "stdout",
     "output_type": "stream",
     "text": [
      "0:\tlearn: 3.4106268\ttest: 3.4168127\tbest: 3.4168127 (0)\ttotal: 548ms\tremaining: 4.93s\n",
      "5:\tlearn: 3.3884686\ttest: 3.3946702\tbest: 3.3946702 (4)\ttotal: 3.52s\tremaining: 2.35s\n",
      "9:\tlearn: 3.3725745\ttest: 3.3789845\tbest: 3.3789845 (9)\ttotal: 6.08s\tremaining: 0us\n",
      "\n",
      "bestTest = 3.378984514\n",
      "bestIteration = 9\n",
      "\n"
     ]
    },
    {
     "name": "stderr",
     "output_type": "stream",
     "text": [
      "\u001b[32m[I 2023-02-02 20:34:09,768]\u001b[0m Trial 9 finished with value: 0.27354457246638986 and parameters: {'learning_rate': 0.06944717774726203, 'l2_leaf_reg': 0.7632484547915874, 'colsample_bylevel': 0.048033216041651325, 'depth': 3, 'boosting_type': 'Ordered', 'bootstrap_type': 'Bernoulli', 'min_data_in_leaf': 8, 'subsample': 0.6304842906772133}. Best is trial 5 with value: 0.24562259254855356.\u001b[0m\n"
     ]
    },
    {
     "name": "stdout",
     "output_type": "stream",
     "text": [
      "Number of completed trials: 10\n",
      "Best trial:\n",
      "\tBest Score: 0.24562259254855356\n",
      "\tBest Params: \n",
      "    learning_rate: 0.5058476946387673\n",
      "    l2_leaf_reg: 0.6570550340041426\n",
      "    colsample_bylevel: 0.08376255404387904\n",
      "    depth: 8\n",
      "    boosting_type: Ordered\n",
      "    bootstrap_type: MVS\n",
      "    min_data_in_leaf: 2\n"
     ]
    }
   ],
   "source": [
    "study = optuna.create_study(direction=\"minimize\")\n",
    "study.optimize(objective, n_trials=10, timeout=600)\n",
    "print(\"Number of completed trials: {}\".format(len(study.trials)))\n",
    "print(\"Best trial:\")\n",
    "trial = study.best_trial\n",
    "\n",
    "print(\"\\tBest Score: {}\".format(trial.value))\n",
    "print(\"\\tBest Params: \")\n",
    "for key, value in trial.params.items():\n",
    "    print(\"    {}: {}\".format(key, value))"
   ]
  },
  {
   "cell_type": "code",
   "execution_count": 9,
   "id": "cf89d4f4",
   "metadata": {},
   "outputs": [
    {
     "name": "stdout",
     "output_type": "stream",
     "text": [
      "0:\tlearn: 3.3414599\ttest: 3.3454272\tbest: 3.3454272 (0)\ttotal: 3.83s\tremaining: 6m 18s\n",
      "5:\tlearn: 3.2045444\ttest: 3.2231072\tbest: 3.2231072 (5)\ttotal: 20.5s\tremaining: 5m 21s\n",
      "10:\tlearn: 3.1556501\ttest: 3.1864697\tbest: 3.1864697 (10)\ttotal: 37s\tremaining: 4m 59s\n",
      "15:\tlearn: 3.1287666\ttest: 3.1665317\tbest: 3.1665317 (15)\ttotal: 54.3s\tremaining: 4m 44s\n",
      "20:\tlearn: 3.1041692\ttest: 3.1534108\tbest: 3.1534108 (20)\ttotal: 1m 12s\tremaining: 4m 32s\n",
      "25:\tlearn: 3.0789815\ttest: 3.1387868\tbest: 3.1387868 (25)\ttotal: 1m 29s\tremaining: 4m 15s\n",
      "30:\tlearn: 3.0521234\ttest: 3.1242730\tbest: 3.1242730 (30)\ttotal: 1m 45s\tremaining: 3m 55s\n",
      "35:\tlearn: 3.0286097\ttest: 3.1129749\tbest: 3.1129749 (35)\ttotal: 2m 3s\tremaining: 3m 39s\n",
      "40:\tlearn: 3.0038104\ttest: 3.1027142\tbest: 3.1027142 (40)\ttotal: 2m 21s\tremaining: 3m 23s\n",
      "45:\tlearn: 2.9824349\ttest: 3.0931602\tbest: 3.0931602 (45)\ttotal: 2m 37s\tremaining: 3m 5s\n",
      "50:\tlearn: 2.9673148\ttest: 3.0895588\tbest: 3.0895588 (50)\ttotal: 2m 53s\tremaining: 2m 46s\n",
      "55:\tlearn: 2.9496213\ttest: 3.0842965\tbest: 3.0842965 (55)\ttotal: 3m 11s\tremaining: 2m 30s\n",
      "60:\tlearn: 2.9354787\ttest: 3.0812789\tbest: 3.0812789 (60)\ttotal: 3m 26s\tremaining: 2m 11s\n",
      "65:\tlearn: 2.9203764\ttest: 3.0778600\tbest: 3.0778600 (65)\ttotal: 3m 41s\tremaining: 1m 54s\n",
      "70:\tlearn: 2.9096638\ttest: 3.0756856\tbest: 3.0756856 (70)\ttotal: 3m 55s\tremaining: 1m 36s\n",
      "75:\tlearn: 2.8943297\ttest: 3.0728483\tbest: 3.0728483 (75)\ttotal: 4m 13s\tremaining: 1m 20s\n",
      "80:\tlearn: 2.8817546\ttest: 3.0698392\tbest: 3.0698392 (80)\ttotal: 4m 32s\tremaining: 1m 3s\n",
      "85:\tlearn: 2.8672352\ttest: 3.0678364\tbest: 3.0678364 (85)\ttotal: 4m 48s\tremaining: 46.9s\n",
      "90:\tlearn: 2.8556970\ttest: 3.0671661\tbest: 3.0669955 (86)\ttotal: 5m 7s\tremaining: 30.4s\n",
      "95:\tlearn: 2.8447722\ttest: 3.0662831\tbest: 3.0662831 (95)\ttotal: 5m 23s\tremaining: 13.5s\n",
      "99:\tlearn: 2.8381403\ttest: 3.0661143\tbest: 3.0660678 (98)\ttotal: 5m 36s\tremaining: 0us\n",
      "\n",
      "bestTest = 3.066067761\n",
      "bestIteration = 98\n",
      "\n",
      "Shrink model to first 99 iterations.\n"
     ]
    }
   ],
   "source": [
    "X_train, X_test, y_train, y_test = train_test_split(X, y, test_size=0.3)\n",
    "\n",
    "\n",
    "train_pool = cb.Pool(\n",
    "    data=X_train,\n",
    "    label=y_train,\n",
    ")\n",
    "\n",
    "valid_pool = cb.Pool(\n",
    "    data=X_test, \n",
    "    label=y_test,\n",
    ")\n",
    "\n",
    "best_params = trial.params\n",
    "best_params[\"loss_function\"] = 'MultiRMSE'\n",
    "best_params[\"iterations\"] = 100\n",
    "best_params[\"allow_const_label\"] = True\n",
    "\n",
    "\n",
    "model = cb.CatBoostRegressor(**best_params)\n",
    "model.fit(train_pool, eval_set=valid_pool, verbose=5)\n",
    "\n",
    "# Get predictions\n",
    "\n",
    "preds = model.predict(X_test)"
   ]
  },
  {
   "cell_type": "code",
   "execution_count": 10,
   "id": "f9372c33",
   "metadata": {},
   "outputs": [
    {
     "data": {
      "text/plain": [
       "0.22777496149604284"
      ]
     },
     "execution_count": 10,
     "metadata": {},
     "output_type": "execute_result"
    }
   ],
   "source": [
    "mean_absolute_error(y_test, preds)"
   ]
  },
  {
   "cell_type": "markdown",
   "id": "e28c2c6a",
   "metadata": {},
   "source": [
    "#### Для итога"
   ]
  },
  {
   "cell_type": "code",
   "execution_count": 13,
   "id": "1079c16c",
   "metadata": {},
   "outputs": [],
   "source": [
    "def prepare_predictions_for_csv(list_predictions):\n",
    "    \"\"\"\n",
    "    [ [Time, 16, 4 ], ... ]\n",
    "    return np array with N values.  \n",
    "    \"\"\"\n",
    "    result = []\n",
    "    for pred in list_predictions: \n",
    "        pred = np.reshape(pred[::10], [-1])\n",
    "        result.extend(pred)\n",
    "    result = np.array(result)\n",
    "    return result\n",
    "\n",
    "def predict_test(model=None, sub_root = \"data_submission\", w_size=200):\n",
    "\n",
    "    list_preds = []\n",
    "    \n",
    "    for p in tqdm(sorted(listdir(sub_root))):\n",
    "        file_data = np.load(f\"{sub_root}/{p}\")\n",
    "        myo_data = file_data['data_myo']\n",
    "        window_myo = window_generator(myo_data, w_size=w_size)\n",
    "        myo_reshaped = np.reshape(window_myo, (window_myo.shape[0], window_myo.shape[1]*window_myo.shape[2]))\n",
    "        pr = model.predict(myo_reshaped)\n",
    "        sbm = np.reshape(pr, (pr.shape[0], 16, 4))\n",
    "\n",
    "        list_preds.append(sbm)\n",
    "    \n",
    "    final_preds = prepare_predictions_for_csv(list_preds)\n",
    "    df = pd.DataFrame({'Predicted': final_preds})\n",
    "    df.insert(0, \"Id\", df.index)\n",
    "    \n",
    "    return df"
   ]
  },
  {
   "cell_type": "code",
   "execution_count": 16,
   "id": "7725948a",
   "metadata": {},
   "outputs": [
    {
     "data": {
      "application/vnd.jupyter.widget-view+json": {
       "model_id": "9032e0b4b37d4fff955d5cee65610748",
       "version_major": 2,
       "version_minor": 0
      },
      "text/plain": [
       "  0%|          | 0/15 [00:00<?, ?it/s]"
      ]
     },
     "metadata": {},
     "output_type": "display_data"
    },
    {
     "data": {
      "text/html": [
       "<div>\n",
       "<style scoped>\n",
       "    .dataframe tbody tr th:only-of-type {\n",
       "        vertical-align: middle;\n",
       "    }\n",
       "\n",
       "    .dataframe tbody tr th {\n",
       "        vertical-align: top;\n",
       "    }\n",
       "\n",
       "    .dataframe thead th {\n",
       "        text-align: right;\n",
       "    }\n",
       "</style>\n",
       "<table border=\"1\" class=\"dataframe\">\n",
       "  <thead>\n",
       "    <tr style=\"text-align: right;\">\n",
       "      <th></th>\n",
       "      <th>Id</th>\n",
       "      <th>Predicted</th>\n",
       "    </tr>\n",
       "  </thead>\n",
       "  <tbody>\n",
       "    <tr>\n",
       "      <th>0</th>\n",
       "      <td>0</td>\n",
       "      <td>2.002662e-19</td>\n",
       "    </tr>\n",
       "    <tr>\n",
       "      <th>1</th>\n",
       "      <td>1</td>\n",
       "      <td>-4.641773e-19</td>\n",
       "    </tr>\n",
       "    <tr>\n",
       "      <th>2</th>\n",
       "      <td>2</td>\n",
       "      <td>2.735191e-22</td>\n",
       "    </tr>\n",
       "    <tr>\n",
       "      <th>3</th>\n",
       "      <td>3</td>\n",
       "      <td>-1.000000e+00</td>\n",
       "    </tr>\n",
       "    <tr>\n",
       "      <th>4</th>\n",
       "      <td>4</td>\n",
       "      <td>-2.883891e-02</td>\n",
       "    </tr>\n",
       "  </tbody>\n",
       "</table>\n",
       "</div>"
      ],
      "text/plain": [
       "   Id     Predicted\n",
       "0   0  2.002662e-19\n",
       "1   1 -4.641773e-19\n",
       "2   2  2.735191e-22\n",
       "3   3 -1.000000e+00\n",
       "4   4 -2.883891e-02"
      ]
     },
     "execution_count": 16,
     "metadata": {},
     "output_type": "execute_result"
    }
   ],
   "source": [
    "df = predict_test(model=model, w_size=WINDOW_SIZE)\n",
    "df.head()"
   ]
  }
 ],
 "metadata": {
  "kernelspec": {
   "display_name": "Python 3 (ipykernel)",
   "language": "python",
   "name": "python3"
  },
  "language_info": {
   "codemirror_mode": {
    "name": "ipython",
    "version": 3
   },
   "file_extension": ".py",
   "mimetype": "text/x-python",
   "name": "python",
   "nbconvert_exporter": "python",
   "pygments_lexer": "ipython3",
   "version": "3.9.12"
  }
 },
 "nbformat": 4,
 "nbformat_minor": 5
}
